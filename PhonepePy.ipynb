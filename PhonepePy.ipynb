{
 "cells": [
  {
   "cell_type": "code",
   "execution_count": 102,
   "id": "bb1400c8",
   "metadata": {},
   "outputs": [],
   "source": [
    "import pandas as pd\n",
    "import json\n",
    "import os\n",
    "import csv"
   ]
  },
  {
   "cell_type": "code",
   "execution_count": 103,
   "id": "f745e742",
   "metadata": {
    "scrolled": true
   },
   "outputs": [
    {
     "name": "stdout",
     "output_type": "stream",
     "text": [
      "True\n"
     ]
    }
   ],
   "source": [
    "print(os.path.exists(r'C:\\Users\\Arun\\Downloads\\JupyterNotebooks\\Phonepe\\data\\aggregated\\transaction\\country\\india\\2018\\1.json'))"
   ]
  },
  {
   "cell_type": "markdown",
   "id": "36ef796b",
   "metadata": {},
   "source": [
    "df1 = Aggregated - Transaction - Country - India - 2018 - 1\n",
    "\n",
    "df2 = Aggregated - Transaction - Country - India - 2018 - 2\n",
    "\n",
    "df3 = Aggregated - Transaction - Country - India - 2018 - 3\n",
    "\n",
    "df4 = Aggregated - Transaction - Country - India - 2018 - 4\n",
    "\n"
   ]
  },
  {
   "cell_type": "code",
   "execution_count": 104,
   "id": "1d16b4aa",
   "metadata": {},
   "outputs": [],
   "source": [
    "df1 = pd.read_json(r'C:\\Users\\Arun\\Downloads\\JupyterNotebooks\\Phonepe\\data\\aggregated\\transaction\\country\\india\\2018\\1.json')\n",
    "df2 = pd.read_json(r'C:\\Users\\Arun\\Downloads\\JupyterNotebooks\\Phonepe\\data\\aggregated\\transaction\\country\\india\\2018\\2.json')\n",
    "df3 = pd.read_json(r'C:\\Users\\Arun\\Downloads\\JupyterNotebooks\\Phonepe\\data\\aggregated\\transaction\\country\\india\\2018\\3.json')\n",
    "df4 = pd.read_json(r'C:\\Users\\Arun\\Downloads\\JupyterNotebooks\\Phonepe\\data\\aggregated\\transaction\\country\\india\\2018\\4.json')"
   ]
  },
  {
   "cell_type": "code",
   "execution_count": 105,
   "id": "900cba2d",
   "metadata": {},
   "outputs": [
    {
     "data": {
      "text/plain": [
       "[{'name': 'Recharge & bill payments',\n",
       "  'paymentInstruments': [{'type': 'TOTAL',\n",
       "    'count': 72550406,\n",
       "    'amount': 14472713558.65257}]},\n",
       " {'name': 'Peer-to-peer payments',\n",
       "  'paymentInstruments': [{'type': 'TOTAL',\n",
       "    'count': 46982705,\n",
       "    'amount': 147245883542.774}]},\n",
       " {'name': 'Merchant payments',\n",
       "  'paymentInstruments': [{'type': 'TOTAL',\n",
       "    'count': 5368669,\n",
       "    'amount': 4656678915.140091}]},\n",
       " {'name': 'Financial Services',\n",
       "  'paymentInstruments': [{'type': 'TOTAL',\n",
       "    'count': 3762820,\n",
       "    'amount': 815853105.1000278}]},\n",
       " {'name': 'Others',\n",
       "  'paymentInstruments': [{'type': 'TOTAL',\n",
       "    'count': 5761576,\n",
       "    'amount': 4643217301.269438}]}]"
      ]
     },
     "execution_count": 105,
     "metadata": {},
     "output_type": "execute_result"
    }
   ],
   "source": [
    "df1['data']['transactionData']"
   ]
  },
  {
   "cell_type": "code",
   "execution_count": 106,
   "id": "532ec510",
   "metadata": {},
   "outputs": [],
   "source": [
    "rows1 = []\n",
    "for i in df1['data']['transactionData']:\n",
    "    i_row = i['paymentInstruments']\n",
    "    n = i['name'] \n",
    "    \n",
    "    for row in i_row:\n",
    "        row['name'] = n \n",
    "        rows1.append(row)\n",
    "        \n",
    "df1 = pd.DataFrame(rows1, columns = ['name','count', 'amount'])\n",
    "df1.to_csv('ati18_1.csv')"
   ]
  },
  {
   "cell_type": "code",
   "execution_count": 107,
   "id": "f4c70767",
   "metadata": {},
   "outputs": [],
   "source": [
    "rows2 = []\n",
    "for i in df2['data']['transactionData']:\n",
    "    i_row = i['paymentInstruments']\n",
    "    n = i['name'] \n",
    "    \n",
    "    for row in i_row:\n",
    "        row['name'] = n \n",
    "        rows2.append(row)\n",
    "\n",
    "df2 = pd.DataFrame(rows2, columns = ['name','count', 'amount'])\n",
    "df2.to_csv('ati18_2.csv')"
   ]
  },
  {
   "cell_type": "code",
   "execution_count": 108,
   "id": "c89edee2",
   "metadata": {},
   "outputs": [],
   "source": [
    "rows3 = []\n",
    "for i in df3['data']['transactionData']:\n",
    "    i_row = i['paymentInstruments']\n",
    "    n = i['name'] \n",
    "    \n",
    "    for row in i_row:\n",
    "        row['name'] = n \n",
    "        rows3.append(row)\n",
    "        \n",
    "df3 = pd.DataFrame(rows3, columns = ['name','count', 'amount'])\n",
    "df3.to_csv('ati18_3.csv')"
   ]
  },
  {
   "cell_type": "code",
   "execution_count": 109,
   "id": "4c8db0f0",
   "metadata": {},
   "outputs": [],
   "source": [
    "rows4 = []\n",
    "for i in df4['data']['transactionData']:\n",
    "    i_row = i['paymentInstruments']\n",
    "    n = i['name'] \n",
    "    \n",
    "    for row in i_row:\n",
    "        row['name'] = n \n",
    "        rows4.append(row)\n",
    "        \n",
    "df4 = pd.DataFrame(rows4, columns = ['name','count', 'amount'])\n",
    "df4.to_csv('ati18_4.csv')"
   ]
  }
 ],
 "metadata": {
  "kernelspec": {
   "display_name": "Python 3 (ipykernel)",
   "language": "python",
   "name": "python3"
  },
  "language_info": {
   "codemirror_mode": {
    "name": "ipython",
    "version": 3
   },
   "file_extension": ".py",
   "mimetype": "text/x-python",
   "name": "python",
   "nbconvert_exporter": "python",
   "pygments_lexer": "ipython3",
   "version": "3.11.1"
  }
 },
 "nbformat": 4,
 "nbformat_minor": 5
}
